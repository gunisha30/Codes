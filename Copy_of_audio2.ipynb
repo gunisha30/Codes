{
  "nbformat": 4,
  "nbformat_minor": 0,
  "metadata": {
    "colab": {
      "name": "Copy of audio2",
      "provenance": [],
      "collapsed_sections": [],
      "include_colab_link": true
    },
    "kernelspec": {
      "name": "python3",
      "display_name": "Python 3"
    }
  },
  "cells": [
    {
      "cell_type": "markdown",
      "metadata": {
        "id": "view-in-github",
        "colab_type": "text"
      },
      "source": [
        "<a href=\"https://colab.research.google.com/github/gunisha30/codes/blob/master/Copy_of_audio2.ipynb\" target=\"_parent\"><img src=\"https://colab.research.google.com/assets/colab-badge.svg\" alt=\"Open In Colab\"/></a>"
      ]
    },
    {
      "cell_type": "code",
      "metadata": {
        "id": "LcHI-srP2mQu",
        "colab_type": "code",
        "outputId": "1be8d228-2bf5-4b53-c29e-2b77c6ef3643",
        "colab": {
          "base_uri": "https://localhost:8080/",
          "height": 143
        }
      },
      "source": [
        "!pip install praat-parselmouth"
      ],
      "execution_count": 0,
      "outputs": [
        {
          "output_type": "stream",
          "text": [
            "Collecting praat-parselmouth\n",
            "\u001b[?25l  Downloading https://files.pythonhosted.org/packages/09/7b/9fa1172a63b6277603d27bb5613559b5a8888f58e68c1698017b87b0061d/praat_parselmouth-0.3.3-cp36-cp36m-manylinux1_x86_64.whl (9.0MB)\n",
            "\u001b[K     |████████████████████████████████| 9.0MB 3.1MB/s \n",
            "\u001b[?25hRequirement already satisfied: numpy>=1.7.0 in /usr/local/lib/python3.6/dist-packages (from praat-parselmouth) (1.18.3)\n",
            "Installing collected packages: praat-parselmouth\n",
            "Successfully installed praat-parselmouth-0.3.3\n"
          ],
          "name": "stdout"
        }
      ]
    },
    {
      "cell_type": "code",
      "metadata": {
        "id": "X2DH-8Qf0yq-",
        "colab_type": "code",
        "outputId": "4cfd374b-60fa-48d7-8d79-c02cd681475e",
        "colab": {
          "base_uri": "https://localhost:8080/",
          "height": 1000
        }
      },
      "source": [
        "!sudo apt-get install libasound-dev portaudio19-dev libportaudio2 libportaudiocpp0\n",
        "!sudo apt-get install ffmpeg libav-tools\n",
        "!sudo pip install pyaudio"
      ],
      "execution_count": 1,
      "outputs": [
        {
          "output_type": "stream",
          "text": [
            "Reading package lists... Done\n",
            "Building dependency tree       \n",
            "Reading state information... Done\n",
            "Note, selecting 'libasound2-dev' instead of 'libasound-dev'\n",
            "libasound2-dev is already the newest version (1.1.3-5ubuntu0.5).\n",
            "Suggested packages:\n",
            "  portaudio19-doc\n",
            "The following NEW packages will be installed:\n",
            "  libportaudio2 libportaudiocpp0 portaudio19-dev\n",
            "0 upgraded, 3 newly installed, 0 to remove and 29 not upgraded.\n",
            "Need to get 184 kB of archives.\n",
            "After this operation, 891 kB of additional disk space will be used.\n",
            "Get:1 http://archive.ubuntu.com/ubuntu bionic/universe amd64 libportaudio2 amd64 19.6.0-1 [64.6 kB]\n",
            "Get:2 http://archive.ubuntu.com/ubuntu bionic/universe amd64 libportaudiocpp0 amd64 19.6.0-1 [15.1 kB]\n",
            "Get:3 http://archive.ubuntu.com/ubuntu bionic/universe amd64 portaudio19-dev amd64 19.6.0-1 [104 kB]\n",
            "Fetched 184 kB in 0s (1,864 kB/s)\n",
            "debconf: unable to initialize frontend: Dialog\n",
            "debconf: (No usable dialog-like program is installed, so the dialog based frontend cannot be used. at /usr/share/perl5/Debconf/FrontEnd/Dialog.pm line 76, <> line 3.)\n",
            "debconf: falling back to frontend: Readline\n",
            "debconf: unable to initialize frontend: Readline\n",
            "debconf: (This frontend requires a controlling tty.)\n",
            "debconf: falling back to frontend: Teletype\n",
            "dpkg-preconfigure: unable to re-open stdin: \n",
            "Selecting previously unselected package libportaudio2:amd64.\n",
            "(Reading database ... 144429 files and directories currently installed.)\n",
            "Preparing to unpack .../libportaudio2_19.6.0-1_amd64.deb ...\n",
            "Unpacking libportaudio2:amd64 (19.6.0-1) ...\n",
            "Selecting previously unselected package libportaudiocpp0:amd64.\n",
            "Preparing to unpack .../libportaudiocpp0_19.6.0-1_amd64.deb ...\n",
            "Unpacking libportaudiocpp0:amd64 (19.6.0-1) ...\n",
            "Selecting previously unselected package portaudio19-dev:amd64.\n",
            "Preparing to unpack .../portaudio19-dev_19.6.0-1_amd64.deb ...\n",
            "Unpacking portaudio19-dev:amd64 (19.6.0-1) ...\n",
            "Setting up libportaudio2:amd64 (19.6.0-1) ...\n",
            "Setting up libportaudiocpp0:amd64 (19.6.0-1) ...\n",
            "Setting up portaudio19-dev:amd64 (19.6.0-1) ...\n",
            "Processing triggers for libc-bin (2.27-3ubuntu1) ...\n",
            "/sbin/ldconfig.real: /usr/local/lib/python3.6/dist-packages/ideep4py/lib/libmkldnn.so.0 is not a symbolic link\n",
            "\n",
            "Reading package lists... Done\n",
            "Building dependency tree       \n",
            "Reading state information... Done\n",
            "Package libav-tools is not available, but is referred to by another package.\n",
            "This may mean that the package is missing, has been obsoleted, or\n",
            "is only available from another source\n",
            "However the following packages replace it:\n",
            "  ffmpeg\n",
            "\n",
            "E: Package 'libav-tools' has no installation candidate\n",
            "Collecting pyaudio\n",
            "  Downloading https://files.pythonhosted.org/packages/ab/42/b4f04721c5c5bfc196ce156b3c768998ef8c0ae3654ed29ea5020c749a6b/PyAudio-0.2.11.tar.gz\n",
            "Building wheels for collected packages: pyaudio\n",
            "  Building wheel for pyaudio (setup.py) ... \u001b[?25l\u001b[?25hdone\n",
            "  Created wheel for pyaudio: filename=PyAudio-0.2.11-cp36-cp36m-linux_x86_64.whl size=51618 sha256=0babf45e990bd78513884d0ad35473d1a14f33fc5008e8aebc3a1599aa0b3fa3\n",
            "  Stored in directory: /root/.cache/pip/wheels/f4/a8/a4/292214166c2917890f85b2f72a8e5f13e1ffa527c4200dcede\n",
            "Successfully built pyaudio\n",
            "Installing collected packages: pyaudio\n",
            "Successfully installed pyaudio-0.2.11\n"
          ],
          "name": "stdout"
        }
      ]
    },
    {
      "cell_type": "code",
      "metadata": {
        "id": "y6mk3SNqh17z",
        "colab_type": "code",
        "colab": {
          "base_uri": "https://localhost:8080/",
          "height": 132
        },
        "outputId": "e85fe538-2cdf-45c3-c970-97e92e849e47"
      },
      "source": [
        "#code to find pitch of video file\n",
        "\n",
        "import pyaudio\n",
        "import wave\n",
        "import numpy as np\n",
        "\n",
        "chunk = 2048\n",
        "\n",
        "# open up a wave\n",
        "wf = wave.open('/content/drive/My Drive/awarathon/audio1.wav', 'rb')\n",
        "swidth = wf.getsampwidth()\n",
        "RATE = wf.getframerate()\n",
        "# use a Blackman window\n",
        "window = np.blackman(chunk)\n",
        "# open stream\n",
        "p = pyaudio.PyAudio()\n",
        "stream = p.open(format = p.get_format_from_width(wf.getsampwidth()), channels = wf.getnchannels(), rate = RATE, output = True)\n",
        "# read some data\n",
        "data = wf.readframes(chunk)\n",
        "# play stream and find the frequency of each chunk\n",
        "while len(data) == chunk*swidth:\n",
        "    # write data out to the audio stream\n",
        "    stream.write(data)\n",
        "    # unpack the data and times by the hamming window\n",
        "    indata = np.array(wave.struct.unpack(\"%dh\"%(len(data)/swidth),\\\n",
        "                                         data))*window\n",
        "    # Take the fft and square each value\n",
        "    fftData=abs(np.fft.rfft(indata))**2\n",
        "    # find the maximum\n",
        "    which = fftData[1:].argmax() + 1\n",
        "    # use quadratic interpolation around the max\n",
        "    if which != len(fftData)-1:\n",
        "        y0,y1,y2 = np.log(fftData[which-1:which+2:])\n",
        "        x1 = (y2 - y0) * .5 / (2 * y1 - y2 - y0)\n",
        "        # find the frequency and output it\n",
        "        thefreq = (which+x1)*RATE/chunk\n",
        "        print(\"The freq is %f Hz\" %(thefreq))\n",
        "    else:\n",
        "        thefreq = which*RATE/chunk\n",
        "        print \"The freq is %f Hz.\" % (thefreq)\n",
        "    # read some more data\n",
        "    data = wf.readframes(chunk)\n",
        "if data:\n",
        "    stream.write(data)\n",
        "stream.close()\n",
        "p.terminate()"
      ],
      "execution_count": 14,
      "outputs": [
        {
          "output_type": "error",
          "ename": "SyntaxError",
          "evalue": "ignored",
          "traceback": [
            "\u001b[0;36m  File \u001b[0;32m\"<ipython-input-14-bf9329bd3d2f>\"\u001b[0;36m, line \u001b[0;32m38\u001b[0m\n\u001b[0;31m    print \"The freq is %f Hz.\" % (thefreq)\u001b[0m\n\u001b[0m                             ^\u001b[0m\n\u001b[0;31mSyntaxError\u001b[0m\u001b[0;31m:\u001b[0m invalid syntax\n"
          ]
        }
      ]
    },
    {
      "cell_type": "code",
      "metadata": {
        "id": "Wzl-kVqI-h4f",
        "colab_type": "code",
        "colab": {}
      },
      "source": [
        "import librosa as l\n",
        "import os\n",
        "import numpy as np\n",
        "os.chdir('/content/drive/My Drive/awarathon')\n",
        "arr,sr=l.load('George.wav')\n",
        "arr.size#/sr #length\n",
        "#print(sr)\n",
        "2871072/22050\n",
        "u=22049*5\n",
        "l=u-22049\n",
        "arrnew=arr[l:u+1]\n",
        "np.sum(arrnew)/22050"
      ],
      "execution_count": 0,
      "outputs": []
    },
    {
      "cell_type": "code",
      "metadata": {
        "id": "3tMVcQY_8nhz",
        "colab_type": "code",
        "colab": {}
      },
      "source": [
        "#convert mp4 to wav \n",
        "import sys\n",
        "import os\n",
        "from moviepy.editor import *\n",
        "\n",
        "# name is the path, if its in the root directory then its just the video name\n",
        "def convert_to_audio(name):\n",
        "  video = VideoFileClip(name)\n",
        "  audio = video.audio\n",
        "  audio.write_audiofile('snigdhaq3.wav')\n",
        "\n",
        "#folder renaming: first-Nishkarsh second-Yash third-Vishesh\n",
        "\n",
        "#os.chdir('/content/drive/My Drive/awarathon/videos')\n",
        "name=\"snigdhaq3.mp4\"\n",
        "convert_to_audio(name)"
      ],
      "execution_count": 0,
      "outputs": []
    },
    {
      "cell_type": "code",
      "metadata": {
        "id": "6yXBK0q-V85U",
        "colab_type": "code",
        "outputId": "d604d8e9-b702-456d-a449-964749d8e4db",
        "colab": {
          "base_uri": "https://localhost:8080/",
          "height": 105
        }
      },
      "source": [
        "import parselmouth\n",
        "from parselmouth.praat import call, run_file\n",
        "import inspect as i\n",
        "import sys\n",
        "import scipy.io.wavfile\n",
        "import math\n",
        "import moviepy.editor as mp\n",
        "\n",
        "#os.chdir('/content')\n",
        "def mysppaus(m,p,l):              #pause rate and articulation rate\n",
        "    sound=p+\"/\"+m+\".wav\"          #entire path till audio file\n",
        "    sourcerun=\"/content/drive/My Drive/awarathon/myspsolution.praat\"                  #path till mysolution.praat\n",
        "    path=p                        #path till the folder which has audio file\n",
        "    try:\n",
        "        objects= run_file(sourcerun, -20, 2, 1, \"yes\",sound,path, 80, 400, 0.01, capture_output=True) \n",
        "        z1=str(objects[1])\n",
        "        z2=z1.strip().split()\n",
        "        print(z2)\n",
        "        print (\"articulation rate=\",z2[3])\n",
        "        p=int(z2[1])                          #pause length in secs\n",
        "        #p=p/60                                #pause length in mins\n",
        "        a=p/l                                 #ratio of pause length and total length\n",
        "        print(\"rate of pause=\",a)\n",
        "        print (\"pause percentage=\",a*100)\n",
        "        #print(p)\n",
        "    except:\n",
        "        print (\"Try again the sound of the audio was not clear\")\n",
        "    return;\n",
        "\n",
        "\n",
        "audioname=\"anjaliq6\"\n",
        "path1=\"/content/drive/My Drive/awarathon/videos\"\n",
        "#path1='/content'\n",
        "#length of video files \n",
        "\n",
        "clip = mp.VideoFileClip('/content/drive/My Drive/awarathon/videos/anjaliq6.mp4')\n",
        "duration = math.floor(clip.duration)\n",
        "image_time_interval = 2\n",
        "#duration=duration/60\n",
        "print(\"length=\",duration/60)\n",
        "\n",
        "mysppaus(audioname,path1,duration)"
      ],
      "execution_count": 0,
      "outputs": [
        {
          "output_type": "stream",
          "text": [
            "length= 0.5166666666666667\n",
            "['96', '0', '3', '4', '25.9', '31', '0.8', '188.48', '35.35', '182.1', '77', '368', '174', '197', '0.85']\n",
            "articulation rate= 4\n",
            "rate of pause= 0.0\n",
            "pause percentage= 0.0\n"
          ],
          "name": "stdout"
        }
      ]
    },
    {
      "cell_type": "code",
      "metadata": {
        "id": "7CEJOCdx8DEb",
        "colab_type": "code",
        "colab": {}
      },
      "source": [
        "import scipy.io.wavfile\n",
        "import os\n",
        "os.chdir('/content/drive/My Drive/awarathon')\n",
        "rate, arr = scipy.io.wavfile.read(\"George.wav\")\n",
        "print(arr.shape[0])\n",
        "print(arr.size)\n",
        "length=arr.shape[0]/rate\n",
        "print(length/60)\n",
        "  \n"
      ],
      "execution_count": 0,
      "outputs": []
    },
    {
      "cell_type": "code",
      "metadata": {
        "id": "i_k5DZ4UP1zk",
        "colab_type": "code",
        "colab": {}
      },
      "source": [
        "from google.colab import drive\n",
        "drive.mount('/content/drive')"
      ],
      "execution_count": 0,
      "outputs": []
    },
    {
      "cell_type": "code",
      "metadata": {
        "id": "IUGrDqJmIN4i",
        "colab_type": "code",
        "outputId": "1e782f4b-9e67-4727-b537-2d40cb8ce07c",
        "colab": {
          "base_uri": "https://localhost:8080/",
          "height": 34
        }
      },
      "source": [
        "import os\n",
        "print(os.ch())\n",
        "#!pip install youtube_dl"
      ],
      "execution_count": 0,
      "outputs": [
        {
          "output_type": "stream",
          "text": [
            "/content/drive/My Drive/awarathon/videos\n"
          ],
          "name": "stdout"
        }
      ]
    },
    {
      "cell_type": "code",
      "metadata": {
        "id": "TZyXt5AFK5pN",
        "colab_type": "code",
        "colab": {}
      },
      "source": [
        "import youtube_dl\n",
        "\n",
        "def download_from_vimeo(vid_link):\n",
        "    ydl = youtube_dl.YoutubeDL({'outtmpl':'vid.mp4'})\n",
        "\n",
        "    with ydl:\n",
        "        result = ydl.extract_info(\n",
        "            vid_link,\n",
        "            download=True # We just want to extract the info\n",
        "        )\n",
        "\n",
        "    if 'entries' in result:\n",
        "        # Can be a playlist or a list of videos\n",
        "        video = result['entries'][0]\n",
        "    else:\n",
        "        # Just a video\n",
        "        video = result\n",
        "\n",
        "    print(video)\n",
        "\n",
        "download_from_vimeo('https://player.vimeo.com/video/348632880')"
      ],
      "execution_count": 0,
      "outputs": []
    }
  ]
}