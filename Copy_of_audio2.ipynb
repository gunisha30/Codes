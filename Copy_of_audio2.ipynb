{
  "nbformat": 4,
  "nbformat_minor": 0,
  "metadata": {
    "colab": {
      "name": "Copy of audio2",
      "provenance": [],
      "collapsed_sections": [],
      "include_colab_link": true
    },
    "kernelspec": {
      "name": "python3",
      "display_name": "Python 3"
    }
  },
  "cells": [
    {
      "cell_type": "markdown",
      "metadata": {
        "id": "view-in-github",
        "colab_type": "text"
      },
      "source": [
        "<a href=\"https://colab.research.google.com/github/gunisha30/codes/blob/master/Copy_of_audio2.ipynb\" target=\"_parent\"><img src=\"https://colab.research.google.com/assets/colab-badge.svg\" alt=\"Open In Colab\"/></a>"
      ]
    },
    {
      "cell_type": "code",
      "metadata": {
        "id": "LcHI-srP2mQu",
        "colab_type": "code",
        "colab": {}
      },
      "source": [
        "!pip install praat-parselmouth"
      ],
      "execution_count": 0,
      "outputs": []
    },
    {
      "cell_type": "code",
      "metadata": {
        "id": "X2DH-8Qf0yq-",
        "colab_type": "code",
        "colab": {}
      },
      "source": [
        "!sudo apt-get install libasound-dev portaudio19-dev libportaudio2 libportaudiocpp0\n",
        "!sudo apt-get install ffmpeg libav-tools\n",
        "!sudo pip install pyaudio"
      ],
      "execution_count": 0,
      "outputs": []
    },
    {
      "cell_type": "code",
      "metadata": {
        "id": "Wzl-kVqI-h4f",
        "colab_type": "code",
        "colab": {}
      },
      "source": [
        "import librosa as l\n",
        "import os\n",
        "import numpy as np\n",
        "os.chdir('/content/drive/My Drive/awarathon')\n",
        "arr,sr=l.load('George.wav')\n",
        "arr.size#/sr #length\n",
        "#print(sr)\n",
        "2871072/22050\n",
        "u=22049*5\n",
        "l=u-22049\n",
        "arrnew=arr[l:u+1]\n",
        "np.sum(arrnew)/22050"
      ],
      "execution_count": 0,
      "outputs": []
    },
    {
      "cell_type": "code",
      "metadata": {
        "id": "3tMVcQY_8nhz",
        "colab_type": "code",
        "colab": {}
      },
      "source": [
        "#convert mp4 to wav \n",
        "import sys\n",
        "import os\n",
        "from moviepy.editor import *\n",
        "\n",
        "# name is the path, if its in the root directory then its just the video name\n",
        "def convert_to_audio(name):\n",
        "  video = VideoFileClip(name)\n",
        "  audio = video.audio\n",
        "  audio.write_audiofile('snigdhaq3.wav')\n",
        "\n",
        "#folder renaming: first-Nishkarsh second-Yash third-Vishesh\n",
        "\n",
        "#os.chdir('/content/drive/My Drive/awarathon/videos')\n",
        "name=\"snigdhaq3.mp4\"\n",
        "convert_to_audio(name)"
      ],
      "execution_count": 0,
      "outputs": []
    },
    {
      "cell_type": "code",
      "metadata": {
        "id": "6yXBK0q-V85U",
        "colab_type": "code",
        "colab": {}
      },
      "source": [
        "import parselmouth\n",
        "from parselmouth.praat import call, run_file\n",
        "import inspect as i\n",
        "import sys\n",
        "import scipy.io.wavfile\n",
        "import math\n",
        "import moviepy.editor as mp\n",
        "\n",
        "#os.chdir('/content')\n",
        "def mysppaus(m,p,l):              #pause rate and articulation rate\n",
        "    sound=p+\"/\"+m+\".wav\"          #entire path till audio file\n",
        "    sourcerun=\"/content/drive/My Drive/awarathon/myspsolution.praat\"                  #path till mysolution.praat\n",
        "    path=p                        #path till the folder which has audio file\n",
        "    try:\n",
        "        objects= run_file(sourcerun, -20, 2, 1, \"yes\",sound,path, 80, 400, 0.01, capture_output=True) \n",
        "        z1=str(objects[1])\n",
        "        z2=z1.strip().split()\n",
        "        print(z2)\n",
        "        print (\"articulation rate=\",z2[3])\n",
        "        p=int(z2[1])                          #pause length in secs\n",
        "        #p=p/60                                #pause length in mins\n",
        "        a=p/l                                 #ratio of pause length and total length\n",
        "        print(\"rate of pause=\",a)\n",
        "        print (\"pause percentage=\",a*100)\n",
        "        #print(p)\n",
        "    except:\n",
        "        print (\"Try again the sound of the audio was not clear\")\n",
        "    return;\n",
        "\n",
        "\n",
        "audioname=\"anjaliq6\"\n",
        "path1=\"/content/drive/My Drive/awarathon/videos\"\n",
        "#path1='/content'\n",
        "#length of video files \n",
        "\n",
        "clip = mp.VideoFileClip('/content/drive/My Drive/awarathon/videos/anjaliq6.mp4')\n",
        "duration = math.floor(clip.duration)\n",
        "image_time_interval = 2\n",
        "#duration=duration/60\n",
        "print(\"length=\",duration/60)\n",
        "\n",
        "mysppaus(audioname,path1,duration)"
      ],
      "execution_count": 0,
      "outputs": []
    },
    {
      "cell_type": "code",
      "metadata": {
        "id": "t00qI09Qd-JZ",
        "colab_type": "code",
        "colab": {}
      },
      "source": [
        "pip install aubio"
      ],
      "execution_count": 0,
      "outputs": []
    },
    {
      "cell_type": "code",
      "metadata": {
        "id": "7CEJOCdx8DEb",
        "colab_type": "code",
        "colab": {}
      },
      "source": [
        "import scipy.io.wavfile\n",
        "import os\n",
        "os.chdir('/content/drive/My Drive/awarathon')\n",
        "rate, arr = scipy.io.wavfile.read(\"George.wav\")\n",
        "print(arr.shape[0])\n",
        "print(arr.size)\n",
        "length=arr.shape[0]/rate\n",
        "print(length/60)\n",
        "  \n"
      ],
      "execution_count": 0,
      "outputs": []
    },
    {
      "cell_type": "code",
      "metadata": {
        "id": "i_k5DZ4UP1zk",
        "colab_type": "code",
        "colab": {}
      },
      "source": [
        "from google.colab import drive\n",
        "drive.mount('/content/drive')"
      ],
      "execution_count": 0,
      "outputs": []
    },
    {
      "cell_type": "code",
      "metadata": {
        "id": "IUGrDqJmIN4i",
        "colab_type": "code",
        "colab": {}
      },
      "source": [
        "import os\n",
        "print(os.ch())\n",
        "#!pip install youtube_dl"
      ],
      "execution_count": 0,
      "outputs": []
    },
    {
      "cell_type": "code",
      "metadata": {
        "id": "TZyXt5AFK5pN",
        "colab_type": "code",
        "colab": {}
      },
      "source": [
        "import youtube_dl\n",
        "\n",
        "def download_from_vimeo(vid_link):\n",
        "    ydl = youtube_dl.YoutubeDL({'outtmpl':'vid.mp4'})\n",
        "\n",
        "    with ydl:\n",
        "        result = ydl.extract_info(\n",
        "            vid_link,\n",
        "            download=True # We just want to extract the info\n",
        "        )\n",
        "\n",
        "    if 'entries' in result:\n",
        "        # Can be a playlist or a list of videos\n",
        "        video = result['entries'][0]\n",
        "    else:\n",
        "        # Just a video\n",
        "        video = result\n",
        "\n",
        "    print(video)\n",
        "\n",
        "download_from_vimeo('https://player.vimeo.com/video/348632880')"
      ],
      "execution_count": 0,
      "outputs": []
    },
    {
      "cell_type": "code",
      "metadata": {
        "id": "WN17f4wwHYtO",
        "colab_type": "code",
        "outputId": "76930bb3-8bef-4603-fa58-03047bd2b69f",
        "colab": {
          "base_uri": "https://localhost:8080/",
          "height": 353
        }
      },
      "source": [
        "import sys\n",
        "from aubio import source, pitch\n",
        "\n",
        "# if len(sys.argv) < 2:\n",
        "#     print(\"Usage: %s <filename> [samplerate]\" % sys.argv[0])\n",
        "#     sys.exit(1)\n",
        "# filename = sys.argv[1]\n",
        "filename=\"/content/drive/My Drive/awarathon/audio1.wav\"\n",
        "downsample = 1\n",
        "samplerate = 44100 // downsample\n",
        "# if len( sys.argv ) > 2: samplerate = int(sys.argv[2])\n",
        "\n",
        "\n",
        "win_s = 4096 // downsample # fft size\n",
        "hop_s = 512  // downsample # hop size\n",
        "\n",
        "s = source(filename, samplerate, hop_s)\n",
        "samplerate = s.samplerate\n",
        "\n",
        "tolerance = 0.8\n",
        "\n",
        "pitch_o = pitch(\"yin\", win_s, hop_s, samplerate)\n",
        "pitch_o.set_unit(\"midi\")\n",
        "pitch_o.set_tolerance(tolerance)\n",
        "\n",
        "pitches = []\n",
        "confidences = []\n",
        "\n",
        "# total number of frames read\n",
        "total_frames = 0\n",
        "while True:\n",
        "    samples, read = s()\n",
        "    pitch = pitch_o(samples)[0]\n",
        "    #pitch = int(round(pitch))\n",
        "    confidence = pitch_o.get_confidence()\n",
        "    #if confidence < 0.8: pitch = 0.\n",
        "    print(\"%f %f %f\" % (total_frames / float(samplerate), pitch, confidence))\n",
        "    pitches += [pitch]\n",
        "    confidences += [confidence]\n",
        "    total_frames += read\n",
        "    if read < hop_s: break\n",
        "\n",
        "if 0: sys.exit(0)\n",
        "\n",
        "#print pitches\n",
        "import os.path\n",
        "from numpy import array, ma\n",
        "import matplotlib.pyplot as plt\n",
        "from demo_waveform_plot import get_waveform_plot, set_xlabels_sample2time\n",
        "\n",
        "skip = 1\n",
        "\n",
        "pitches = array(pitches[skip:])\n",
        "confidences = array(confidences[skip:])\n",
        "times = [t * hop_s for t in range(len(pitches))]\n",
        "\n",
        "fig = plt.figure()\n",
        "\n",
        "ax1 = fig.add_subplot(311)\n",
        "ax1 = get_waveform_plot(filename, samplerate = samplerate, block_size = hop_s, ax = ax1)\n",
        "plt.setp(ax1.get_xticklabels(), visible = False)\n",
        "ax1.set_xlabel('')\n",
        "\n",
        "def array_from_text_file(filename, dtype = 'float'):\n",
        "    filename = os.path.join(os.path.dirname(__file__), filename)\n",
        "    return array([line.split() for line in open(filename).readlines()],\n",
        "        dtype = dtype)\n",
        "\n",
        "ax2 = fig.add_subplot(312, sharex = ax1)\n",
        "ground_truth = os.path.splitext(filename)[0] + '.f0.Corrected'\n",
        "if os.path.isfile(ground_truth):\n",
        "    ground_truth = array_from_text_file(ground_truth)\n",
        "    true_freqs = ground_truth[:,2]\n",
        "    true_freqs = ma.masked_where(true_freqs < 2, true_freqs)\n",
        "    true_times = float(samplerate) * ground_truth[:,0]\n",
        "    ax2.plot(true_times, true_freqs, 'r')\n",
        "    ax2.axis( ymin = 0.9 * true_freqs.min(), ymax = 1.1 * true_freqs.max() )\n",
        "# plot raw pitches\n",
        "ax2.plot(times, pitches, '.g')\n",
        "# plot cleaned up pitches\n",
        "cleaned_pitches = pitches\n",
        "#cleaned_pitches = ma.masked_where(cleaned_pitches < 0, cleaned_pitches)\n",
        "#cleaned_pitches = ma.masked_where(cleaned_pitches > 120, cleaned_pitches)\n",
        "cleaned_pitches = ma.masked_where(confidences < tolerance, cleaned_pitches)\n",
        "ax2.plot(times, cleaned_pitches, '.-')\n",
        "#ax2.axis( ymin = 0.9 * cleaned_pitches.min(), ymax = 1.1 * cleaned_pitches.max() )\n",
        "#ax2.axis( ymin = 55, ymax = 70 )\n",
        "plt.setp(ax2.get_xticklabels(), visible = False)\n",
        "ax2.set_ylabel('f0 (midi)')\n",
        "\n",
        "# plot confidence\n",
        "ax3 = fig.add_subplot(313, sharex = ax1)\n",
        "# plot the confidence\n",
        "ax3.plot(times, confidences)\n",
        "# draw a line at tolerance\n",
        "ax3.plot(times, [tolerance]*len(confidences))\n",
        "ax3.axis( xmin = times[0], xmax = times[-1])\n",
        "ax3.set_ylabel('condidence')\n",
        "set_xlabels_sample2time(ax3, times[-1], samplerate)\n",
        "plt.show()\n",
        "#plt.savefig(os.path.basename(filename) + '.svg')"
      ],
      "execution_count": 2,
      "outputs": [
        {
          "output_type": "error",
          "ename": "ModuleNotFoundError",
          "evalue": "ignored",
          "traceback": [
            "\u001b[0;31m---------------------------------------------------------------------------\u001b[0m",
            "\u001b[0;31mModuleNotFoundError\u001b[0m                       Traceback (most recent call last)",
            "\u001b[0;32m<ipython-input-2-9ddd3f7f8afe>\u001b[0m in \u001b[0;36m<module>\u001b[0;34m()\u001b[0m\n\u001b[1;32m      1\u001b[0m \u001b[0;32mimport\u001b[0m \u001b[0msys\u001b[0m\u001b[0;34m\u001b[0m\u001b[0;34m\u001b[0m\u001b[0m\n\u001b[0;32m----> 2\u001b[0;31m \u001b[0;32mfrom\u001b[0m \u001b[0maubio\u001b[0m \u001b[0;32mimport\u001b[0m \u001b[0msource\u001b[0m\u001b[0;34m,\u001b[0m \u001b[0mpitch\u001b[0m\u001b[0;34m\u001b[0m\u001b[0;34m\u001b[0m\u001b[0m\n\u001b[0m\u001b[1;32m      3\u001b[0m \u001b[0;34m\u001b[0m\u001b[0m\n\u001b[1;32m      4\u001b[0m \u001b[0;31m# if len(sys.argv) < 2:\u001b[0m\u001b[0;34m\u001b[0m\u001b[0;34m\u001b[0m\u001b[0;34m\u001b[0m\u001b[0m\n\u001b[1;32m      5\u001b[0m \u001b[0;31m#     print(\"Usage: %s <filename> [samplerate]\" % sys.argv[0])\u001b[0m\u001b[0;34m\u001b[0m\u001b[0;34m\u001b[0m\u001b[0;34m\u001b[0m\u001b[0m\n",
            "\u001b[0;31mModuleNotFoundError\u001b[0m: No module named 'aubio'",
            "",
            "\u001b[0;31m---------------------------------------------------------------------------\u001b[0;32m\nNOTE: If your import is failing due to a missing package, you can\nmanually install dependencies using either !pip or !apt.\n\nTo view examples of installing some common dependencies, click the\n\"Open Examples\" button below.\n\u001b[0;31m---------------------------------------------------------------------------\u001b[0m\n"
          ]
        }
      ]
    }
  ]
}