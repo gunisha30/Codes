{
  "nbformat": 4,
  "nbformat_minor": 0,
  "metadata": {
    "colab": {
      "name": "audioanalysis",
      "provenance": [],
      "collapsed_sections": [],
      "toc_visible": true,
      "mount_file_id": "1FyS4Q2ZigMWxpFTVzFqV3xE7QRadddYb",
      "authorship_tag": "ABX9TyPNRYRDZbP0raIZHL7rWKFM",
      "include_colab_link": true
    },
    "kernelspec": {
      "name": "python3",
      "display_name": "Python 3"
    }
  },
  "cells": [
    {
      "cell_type": "markdown",
      "metadata": {
        "id": "view-in-github",
        "colab_type": "text"
      },
      "source": [
        "<a href=\"https://colab.research.google.com/github/gunisha30/codes/blob/master/audioanalysis.ipynb\" target=\"_parent\"><img src=\"https://colab.research.google.com/assets/colab-badge.svg\" alt=\"Open In Colab\"/></a>"
      ]
    },
    {
      "cell_type": "markdown",
      "metadata": {
        "id": "hY9KdRGl47Yt",
        "colab_type": "text"
      },
      "source": [
        ""
      ]
    },
    {
      "cell_type": "code",
      "metadata": {
        "colab_type": "code",
        "id": "HEnO_-FwxC5F",
        "colab": {}
      },
      "source": [
        "import numpy as np\n",
        "import scipy.io.wavfile\n",
        "from scipy.fftpack import dct\n",
        "import os\n",
        "import sys\n",
        "import matplotlib.pyplot as plt\n",
        "#np.set_printoptions(threshold=sys.maxsize)\n",
        "os.chdir('/content/drive/My Drive/awarathon')\n",
        "\n",
        "rate1, normal = scipy.io.wavfile.read(\"audio1.wav\") \n",
        "rate2, fast = scipy.io.wavfile.read(\"audio1fast.wav\")\n",
        "rate3, slow = scipy.io.wavfile.read(\"audio1slow.wav\")\n",
        "normal = normal[0:int(3.5 * rate1)] #to take first 3.5 seconds of the audio \n",
        "fast = fast[0:int(3.5 * rate2)]\n",
        "slow = slow[0:int(3.5 * rate3)]\n",
        "\n",
        "#print(signal.size,samplerate) #size gives length of array\n",
        "#length = signal.shape[0] / samplerate\n",
        "l1=normal.size/rate1 #this gives length of audio\n",
        "l2=normal.size/rate2\n",
        "l3=normal.size/rate3\n",
        "#print(signal.shape[0]) #same result as size\n",
        "\n",
        "t1 = np.linspace(0, l1, normal.size)\n",
        "t2=  np.linspace(0, l1, normal.size)\n",
        "t3=  np.linspace(0, l1, normal.size)\n",
        "#f, (ax1,ax2,ax3)=plt.subplot(3)\n",
        "#plt.axes.Axes.set_xscale(1, 'linear')\n",
        "plt.xlabel(\"Time [s]\")\n",
        "plt.ylabel(\"Amplitude\")\n",
        "plt.rcParams[\"figure.figsize\"] = [6,6]\n",
        "#print(type(l1))\n",
        "l1=int(l1)\n",
        "a=range(0,l1)\n",
        "plt.plot(a, normal)\n",
        "plt.show()\n",
        "#plt.plot(t2, fast)\n",
        "#plt.show()\n",
        "#plt.plot (t3, slow)\n",
        "#plt.show()\n",
        "#plt.plot(time, signal[:, 1], label=\"Right channel\")\n"
      ],
      "execution_count": 0,
      "outputs": []
    }
  ]
}