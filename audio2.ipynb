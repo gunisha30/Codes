{
  "nbformat": 4,
  "nbformat_minor": 0,
  "metadata": {
    "colab": {
      "name": "audio2",
      "provenance": [],
      "collapsed_sections": [],
      "include_colab_link": true
    },
    "kernelspec": {
      "name": "python3",
      "display_name": "Python 3"
    }
  },
  "cells": [
    {
      "cell_type": "markdown",
      "metadata": {
        "id": "view-in-github",
        "colab_type": "text"
      },
      "source": [
        "<a href=\"https://colab.research.google.com/github/gunisha30/codes/blob/master/audio2.ipynb\" target=\"_parent\"><img src=\"https://colab.research.google.com/assets/colab-badge.svg\" alt=\"Open In Colab\"/></a>"
      ]
    },
    {
      "cell_type": "code",
      "metadata": {
        "id": "LcHI-srP2mQu",
        "colab_type": "code",
        "colab": {}
      },
      "source": [
        "!pip install praat-parselmouth"
      ],
      "execution_count": 0,
      "outputs": []
    },
    {
      "cell_type": "code",
      "metadata": {
        "id": "3tMVcQY_8nhz",
        "colab_type": "code",
        "colab": {}
      },
      "source": [
        "import sys\n",
        "import os\n",
        "from moviepy.editor import *\n",
        "\n",
        "# name is the path, if its in the root directory then its just the video name\n",
        "def convert_to_audio(name):\n",
        "  video = VideoFileClip(name)\n",
        "  audio = video.audio\n",
        "  audio.write_audiofile('Q1converted.wav')\n",
        "\n",
        "os.chdir('/content/drive/My Drive/awarathon/first')\n",
        "name=\"Q2.mp4\"\n",
        "convert_to_audio(name)"
      ],
      "execution_count": 0,
      "outputs": []
    },
    {
      "cell_type": "code",
      "metadata": {
        "id": "6yXBK0q-V85U",
        "colab_type": "code",
        "outputId": "db9ddd2e-6a0b-49be-9e7b-abff2100a497",
        "colab": {
          "base_uri": "https://localhost:8080/",
          "height": 34
        }
      },
      "source": [
        "import parselmouth\n",
        "from parselmouth.praat import call, run_file\n",
        "import inspect as i\n",
        "import sys\n",
        "import scipy.io.wavfile\n",
        "\n",
        "def audiolength(audio,path):\n",
        "    rate, arr = scipy.io.wavfile.read(path+\"/\"+audio+\".wav\")\n",
        "    length=arr.size/rate \n",
        "    length=length/60\n",
        "    #print(rate)\n",
        "    return (length)\n",
        "\n",
        "def mysppaus(m,p,l): #no of pauses\n",
        "    sound=p+\"/\"+m+\".wav\" #entire path till audio file\n",
        "    sourcerun=p+\"/\"+\"myspsolution.praat\" #path till mysolution.praat\n",
        "    path=p #path till the folder which has audio file\n",
        "    try:\n",
        "        objects= run_file(sourcerun, -20, 2, 1, \"yes\",sound,path, 80, 400, 0.01, capture_output=True)\n",
        "        z1=str(objects[1])\n",
        "        z2=z1.strip().split()\n",
        "        print (\"articulation rate=\",z2[3])\n",
        "        print (z2)\n",
        "        p=int(z2[1])\n",
        "        #print(p)\n",
        "        a=(p)/60\n",
        "      
        "        print(a/l)\n",
        "    except:\n",
        "        print (\"Try again the sound of the audio was not clear\")\n",
        "    return;\n",
        "\n",
        "\n",
        "audioname=\"q2\"\n",
        "path1=\"/content\"\n",
        "l=audiolength(audioname,path1)\n",
        "#print(l)\n",
        "mysppaus(audioname,path1,l)"
      ],
      "execution_count": 9,
      "outputs": [
        {
          "output_type": "stream",
          "text": [
            "Try again the sound of the audio was not clear\n"
          ],
          "name": "stdout"
        }
      ]
    },
    {
      "cell_type": "code",
      "metadata": {
        "id": "i_k5DZ4UP1zk",
        "colab_type": "code",
        "colab": {}
      },
      "source": [
        "from google.colab import drive\n",
        "drive.mount('/content/drive')"
      ],
      "execution_count": 0,
      "outputs": []
    }
  ]
}
