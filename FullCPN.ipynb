{
  "nbformat": 4,
  "nbformat_minor": 0,
  "metadata": {
    "colab": {
      "name": "FullCPN.ipynb",
      "provenance": [],
      "authorship_tag": "ABX9TyN2V6epkP228gfoX85dxHeW",
      "include_colab_link": true
    },
    "kernelspec": {
      "name": "python3",
      "display_name": "Python 3"
    }
  },
  "cells": [
    {
      "cell_type": "markdown",
      "metadata": {
        "id": "view-in-github",
        "colab_type": "text"
      },
      "source": [
        "<a href=\"https://colab.research.google.com/github/gunisha30/codes/blob/master/FullCPN.ipynb\" target=\"_parent\"><img src=\"https://colab.research.google.com/assets/colab-badge.svg\" alt=\"Open In Colab\"/></a>"
      ]
    },
    {
      "cell_type": "code",
      "metadata": {
        "id": "Q8_aU9qJnTFE"
      },
      "source": [
        ""
      ],
      "execution_count": null,
      "outputs": []
    },
    {
      "cell_type": "code",
      "metadata": {
        "id": "tRjYXx4IAUul",
        "colab": {
          "base_uri": "https://localhost:8080/"
        },
        "outputId": "0d8e61d5-fee6-46f4-b6a7-9e5e49bba486"
      },
      "source": [
        "x=[1,0,0,0]\n",
        "y=[1,0]\n",
        "alpha=0.2\n",
        "beta=0.2\n",
        "v=[[0.6,0.4],[0.6,0.4],[0.4,0.6],[0.4,0.6]]\n",
        "w=[[0.5,0.5],[0.5,0.5]]\n",
        "n_clusters=2\n",
        "n=len(x)\n",
        "m=len(y)\n",
        "j=0\n",
        "d=[]\n",
        "while(j<n_clusters):\n",
        "  i=0\n",
        "  k=0\n",
        "  first=0\n",
        "  second=0\n",
        "  while(i<n or k<m):\n",
        "    if(i<n):\n",
        "      first=first+((x[i]-v[i][j])**2)\n",
        "      i=i+1\n",
        "    if(k<m):\n",
        "      second=second+((y[k]-w[k][j])**2)\n",
        "      k=k+1\n",
        "  d.append(first+second)\n",
        "  j=j+1\n",
        "\n",
        "winner=min(d)\n",
        "w_index=d.index(winner)\n",
        "\n",
        "#update weights\n",
        "i=0\n",
        "k=0\n",
        "while(i<n or k<m):\n",
        "    if(i<n):\n",
        "      v[i][w_index]=v[i][w_index]+(alpha*(x[i]-v[i][w_index]))\n",
        "      i=i+1\n",
        "    if(k<m):\n",
        "      w[k][w_index]=w[k][w_index]+(beta*(y[k]-w[k][w_index]))\n",
        "      k=k+1\n",
        "\n",
        "#update learning rates\n"
      ],
      "execution_count": 5,
      "outputs": [
        {
          "output_type": "stream",
          "text": [
            "[[0.6, 0.5], [0.4, 0.5]]\n"
          ],
          "name": "stdout"
        }
      ]
    },
    {
      "cell_type": "code",
      "metadata": {
        "id": "Z12I6DR-tOpk"
      },
      "source": [
        ""
      ],
      "execution_count": null,
      "outputs": []
    }
  ]
}